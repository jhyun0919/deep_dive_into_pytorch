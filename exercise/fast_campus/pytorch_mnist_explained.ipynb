{
 "cells": [
  {
   "cell_type": "code",
   "execution_count": 1,
   "metadata": {
    "ExecuteTime": {
     "end_time": "2019-10-21T01:46:33.066011Z",
     "start_time": "2019-10-21T01:46:33.063629Z"
    },
    "colab": {
     "base_uri": "https://localhost:8080/",
     "height": 119
    },
    "colab_type": "code",
    "id": "hax9UhIZAvr3",
    "outputId": "c125db45-76c1-435d-afaf-a07413083299"
   },
   "outputs": [
    {
     "name": "stdout",
     "output_type": "stream",
     "text": [
      "Requirement already satisfied: torch in /usr/local/lib/python3.6/dist-packages (1.3.0+cu100)\n",
      "Requirement already satisfied: torchvision in /usr/local/lib/python3.6/dist-packages (0.4.1+cu100)\n",
      "Requirement already satisfied: numpy in /usr/local/lib/python3.6/dist-packages (from torch) (1.16.5)\n",
      "Requirement already satisfied: pillow>=4.1.1 in /usr/local/lib/python3.6/dist-packages (from torchvision) (4.3.0)\n",
      "Requirement already satisfied: six in /usr/local/lib/python3.6/dist-packages (from torchvision) (1.12.0)\n",
      "Requirement already satisfied: olefile in /usr/local/lib/python3.6/dist-packages (from pillow>=4.1.1->torchvision) (0.46)\n"
     ]
    }
   ],
   "source": [
    "!pip3 install torch torchvision"
   ]
  },
  {
   "cell_type": "code",
   "execution_count": 0,
   "metadata": {
    "ExecuteTime": {
     "end_time": "2019-10-21T01:46:33.623280Z",
     "start_time": "2019-10-21T01:46:33.393444Z"
    },
    "colab": {},
    "colab_type": "code",
    "id": "IUd5SjzVAvr6"
   },
   "outputs": [],
   "source": [
    "import torch\n",
    "from torchvision import datasets, transforms\n",
    "import torch.nn as nn\n",
    "import torch.optim as optim\n",
    "import torch.nn.functional as F"
   ]
  },
  {
   "cell_type": "markdown",
   "metadata": {
    "colab_type": "text",
    "id": "BgxyXOCt8jRE"
   },
   "source": [
    "# EDA"
   ]
  },
  {
   "cell_type": "markdown",
   "metadata": {
    "colab_type": "text",
    "id": "Rl7uUUB4GyBK"
   },
   "source": [
    "## DataLoader"
   ]
  },
  {
   "cell_type": "code",
   "execution_count": 0,
   "metadata": {
    "ExecuteTime": {
     "end_time": "2019-10-21T01:46:33.982613Z",
     "start_time": "2019-10-21T01:46:33.980273Z"
    },
    "colab": {},
    "colab_type": "code",
    "id": "OL_mmxB8Avr8"
   },
   "outputs": [],
   "source": [
    "batch_size = 1"
   ]
  },
  {
   "cell_type": "code",
   "execution_count": 0,
   "metadata": {
    "ExecuteTime": {
     "end_time": "2019-10-21T01:46:42.475232Z",
     "start_time": "2019-10-21T01:46:42.439305Z"
    },
    "colab": {},
    "colab_type": "code",
    "id": "vvKVnTpsAvr-"
   },
   "outputs": [],
   "source": [
    "train_loader = torch.utils.data.DataLoader(\n",
    "    datasets.MNIST('dataset/', train=True, download=True,\n",
    "                   transform=transforms.Compose([\n",
    "                       transforms.ToTensor(),\n",
    "                       transforms.Normalize(mean=(0.5,), std=(0.5,))\n",
    "                   ])),\n",
    "    batch_size=batch_size,\n",
    "    shuffle=True)"
   ]
  },
  {
   "cell_type": "markdown",
   "metadata": {
    "colab_type": "text",
    "id": "5IUyvD098jRK"
   },
   "source": [
    "## Check data"
   ]
  },
  {
   "cell_type": "code",
   "execution_count": 0,
   "metadata": {
    "ExecuteTime": {
     "end_time": "2019-10-21T01:46:51.824048Z",
     "start_time": "2019-10-21T01:46:51.817336Z"
    },
    "colab": {},
    "colab_type": "code",
    "id": "0Ebnu3qhAvsA"
   },
   "outputs": [],
   "source": [
    "images, labels = next(iter(train_loader))"
   ]
  },
  {
   "cell_type": "code",
   "execution_count": 6,
   "metadata": {
    "ExecuteTime": {
     "end_time": "2019-10-21T01:46:52.122768Z",
     "start_time": "2019-10-21T01:46:52.119126Z"
    },
    "colab": {
     "base_uri": "https://localhost:8080/",
     "height": 34
    },
    "colab_type": "code",
    "id": "oPSue2vAAvsC",
    "outputId": "ba7f54c2-c072-4335-94da-2f2d9bee011d"
   },
   "outputs": [
    {
     "data": {
      "text/plain": [
       "(torch.Size([1, 1, 28, 28]), torch.Size([1]))"
      ]
     },
     "execution_count": 6,
     "metadata": {
      "tags": []
     },
     "output_type": "execute_result"
    }
   ],
   "source": [
    "images.shape, labels.shape # [batch_size, channel_size, h, w], [batch_size]"
   ]
  },
  {
   "cell_type": "code",
   "execution_count": 0,
   "metadata": {
    "ExecuteTime": {
     "end_time": "2019-10-21T01:46:52.379523Z",
     "start_time": "2019-10-21T01:46:52.375293Z"
    },
    "colab": {},
    "colab_type": "code",
    "id": "FRMT8nbdAvsE"
   },
   "outputs": [],
   "source": [
    "import numpy as np\n",
    "import matplotlib.pyplot as plt\n",
    "%matplotlib inline"
   ]
  },
  {
   "cell_type": "code",
   "execution_count": 8,
   "metadata": {
    "ExecuteTime": {
     "end_time": "2019-10-21T01:46:52.609984Z",
     "start_time": "2019-10-21T01:46:52.606601Z"
    },
    "colab": {
     "base_uri": "https://localhost:8080/",
     "height": 34
    },
    "colab_type": "code",
    "id": "igyABohNAvsG",
    "outputId": "8e4d2e5e-d5f4-4f6f-b72f-52b9dd42547f"
   },
   "outputs": [
    {
     "data": {
      "text/plain": [
       "torch.Size([1, 28, 28])"
      ]
     },
     "execution_count": 8,
     "metadata": {
      "tags": []
     },
     "output_type": "execute_result"
    }
   ],
   "source": [
    "images[0].shape # [channel, h, w]"
   ]
  },
  {
   "cell_type": "code",
   "execution_count": 9,
   "metadata": {
    "ExecuteTime": {
     "end_time": "2019-10-21T01:46:52.854008Z",
     "start_time": "2019-10-21T01:46:52.850199Z"
    },
    "colab": {
     "base_uri": "https://localhost:8080/",
     "height": 34
    },
    "colab_type": "code",
    "id": "6awblaNcAvsI",
    "outputId": "fc92b088-1f7e-4996-8af0-8c8bc3871e61"
   },
   "outputs": [
    {
     "data": {
      "text/plain": [
       "torch.Size([28, 28])"
      ]
     },
     "execution_count": 9,
     "metadata": {
      "tags": []
     },
     "output_type": "execute_result"
    }
   ],
   "source": [
    "torch_image = torch.squeeze(images[0]) # remove useless dimension by squeeze()\n",
    "torch_image.shape"
   ]
  },
  {
   "cell_type": "code",
   "execution_count": 10,
   "metadata": {
    "ExecuteTime": {
     "end_time": "2019-10-21T01:46:53.223766Z",
     "start_time": "2019-10-21T01:46:53.219839Z"
    },
    "colab": {
     "base_uri": "https://localhost:8080/",
     "height": 34
    },
    "colab_type": "code",
    "id": "dclqOu4qAvsJ",
    "outputId": "3c2a3360-d601-4232-882b-4bb38bbe5765"
   },
   "outputs": [
    {
     "data": {
      "text/plain": [
       "(28, 28)"
      ]
     },
     "execution_count": 10,
     "metadata": {
      "tags": []
     },
     "output_type": "execute_result"
    }
   ],
   "source": [
    "image = torch_image.numpy()\n",
    "image.shape"
   ]
  },
  {
   "cell_type": "code",
   "execution_count": 11,
   "metadata": {
    "ExecuteTime": {
     "end_time": "2019-10-21T01:46:53.511631Z",
     "start_time": "2019-10-21T01:46:53.508433Z"
    },
    "colab": {
     "base_uri": "https://localhost:8080/",
     "height": 34
    },
    "colab_type": "code",
    "id": "OpD6B4FvAvsL",
    "outputId": "99d37a7f-c98d-46bc-8fa6-be2af8060386"
   },
   "outputs": [
    {
     "data": {
      "text/plain": [
       "((), 9)"
      ]
     },
     "execution_count": 11,
     "metadata": {
      "tags": []
     },
     "output_type": "execute_result"
    }
   ],
   "source": [
    "label = labels[0].numpy()\n",
    "label.shape, label.item()"
   ]
  },
  {
   "cell_type": "code",
   "execution_count": 12,
   "metadata": {
    "ExecuteTime": {
     "end_time": "2019-10-21T01:46:53.926627Z",
     "start_time": "2019-10-21T01:46:53.790672Z"
    },
    "colab": {
     "base_uri": "https://localhost:8080/",
     "height": 281
    },
    "colab_type": "code",
    "id": "H22w_1DuAvsN",
    "outputId": "e81fab75-ff07-41f4-f084-7785ad56b1f6"
   },
   "outputs": [
    {
     "data": {
      "image/png": "[encoded data removed]",
      "text/plain": [
       "<Figure size 432x288 with 1 Axes>"
      ]
     },
     "metadata": {
      "tags": []
     },
     "output_type": "display_data"
    }
   ],
   "source": [
    "plt.title(label)\n",
    "plt.imshow(image, 'gray')\n",
    "plt.show()"
   ]
  },
  {
   "cell_type": "markdown",
   "metadata": {
    "colab_type": "text",
    "id": "VdGtpjJk8jRd"
   },
   "source": [
    "# Layers explain"
   ]
  },
  {
   "cell_type": "markdown",
   "metadata": {
    "colab_type": "text",
    "id": "PQhSaYSn8jRe"
   },
   "source": [
    "## Feature extraction"
   ]
  },
  {
   "cell_type": "markdown",
   "metadata": {
    "colab_type": "text",
    "id": "HPE0uolC8jRf"
   },
   "source": [
    "### Conv2d"
   ]
  },
  {
   "cell_type": "code",
   "execution_count": 13,
   "metadata": {
    "ExecuteTime": {
     "end_time": "2019-10-21T01:46:54.207295Z",
     "start_time": "2019-10-21T01:46:54.202317Z"
    },
    "colab": {
     "base_uri": "https://localhost:8080/",
     "height": 34
    },
    "colab_type": "code",
    "id": "yxvv_ZDAAvsP",
    "outputId": "3df1be49-dc75-448c-a76a-0b4127f8ac18"
   },
   "outputs": [
    {
     "data": {
      "text/plain": [
       "Conv2d(1, 20, kernel_size=(5, 5), stride=(1, 1))"
      ]
     },
     "execution_count": 13,
     "metadata": {
      "tags": []
     },
     "output_type": "execute_result"
    }
   ],
   "source": [
    "conv_layer = nn.Conv2d(in_channels=1,\n",
    "                       out_channels=20,\n",
    "                       kernel_size=(5, 5),\n",
    "                       stride=1).to(torch.device('cpu'))\n",
    "conv_layer"
   ]
  },
  {
   "cell_type": "code",
   "execution_count": 14,
   "metadata": {
    "ExecuteTime": {
     "end_time": "2019-10-21T01:46:54.495953Z",
     "start_time": "2019-10-21T01:46:54.492929Z"
    },
    "colab": {
     "base_uri": "https://localhost:8080/",
     "height": 34
    },
    "colab_type": "code",
    "id": "fMO-e7o7AvsR",
    "outputId": "59aada74-14bf-4908-ce2f-fcf5fefe7daa"
   },
   "outputs": [
    {
     "data": {
      "text/plain": [
       "torch.Size([20, 1, 5, 5])"
      ]
     },
     "execution_count": 14,
     "metadata": {
      "tags": []
     },
     "output_type": "execute_result"
    }
   ],
   "source": [
    "weight = conv_layer.weight\n",
    "weight.shape # [channel_size, kernal_h, kernal_w]"
   ]
  },
  {
   "cell_type": "code",
   "execution_count": 0,
   "metadata": {
    "ExecuteTime": {
     "end_time": "2019-10-21T01:46:54.832926Z",
     "start_time": "2019-10-21T01:46:54.830386Z"
    },
    "colab": {},
    "colab_type": "code",
    "id": "wA55Zc5_AvsT"
   },
   "outputs": [],
   "source": [
    "weight = weight.detach().numpy() # need to detach since ..."
   ]
  },
  {
   "cell_type": "code",
   "execution_count": 16,
   "metadata": {
    "ExecuteTime": {
     "end_time": "2019-10-21T01:46:55.344256Z",
     "start_time": "2019-10-21T01:46:55.162170Z"
    },
    "colab": {
     "base_uri": "https://localhost:8080/",
     "height": 269
    },
    "colab_type": "code",
    "id": "6ZSdePyQAvsV",
    "outputId": "dd9d1d19-25d9-4875-dc68-3df78b5aa3dd"
   },
   "outputs": [
    {
     "data": {
      "image/png": "[encoded data removed]",
      "text/plain": [
       "<Figure size 432x288 with 2 Axes>"
      ]
     },
     "metadata": {
      "tags": []
     },
     "output_type": "display_data"
    }
   ],
   "source": [
    "plt.imshow(weight[0, 0, :, :], 'jet')\n",
    "plt.colorbar()\n",
    "plt.show()"
   ]
  },
  {
   "cell_type": "code",
   "execution_count": 17,
   "metadata": {
    "ExecuteTime": {
     "end_time": "2019-10-21T01:46:55.665980Z",
     "start_time": "2019-10-21T01:46:55.661748Z"
    },
    "colab": {
     "base_uri": "https://localhost:8080/",
     "height": 34
    },
    "colab_type": "code",
    "id": "2NpSBnahAvsX",
    "outputId": "ef84d3c1-8dd9-4a7f-e29a-c408fb5fcb0f"
   },
   "outputs": [
    {
     "data": {
      "text/plain": [
       "torch.Size([1, 20, 24, 24])"
      ]
     },
     "execution_count": 17,
     "metadata": {
      "tags": []
     },
     "output_type": "execute_result"
    }
   ],
   "source": [
    "conv_output = conv_layer(images)\n",
    "conv_output.shape # [batch_size, channel_size, kernal_h, kernal_w]"
   ]
  },
  {
   "cell_type": "code",
   "execution_count": 18,
   "metadata": {
    "ExecuteTime": {
     "end_time": "2019-10-21T01:46:56.451239Z",
     "start_time": "2019-10-21T01:46:56.447918Z"
    },
    "colab": {
     "base_uri": "https://localhost:8080/",
     "height": 34
    },
    "colab_type": "code",
    "id": "peXgooJcAvsa",
    "outputId": "2aeff9ba-3ae0-4398-bef9-f27c4aa91b72"
   },
   "outputs": [
    {
     "data": {
      "text/plain": [
       "(1, 1, 28, 28)"
      ]
     },
     "execution_count": 18,
     "metadata": {
      "tags": []
     },
     "output_type": "execute_result"
    }
   ],
   "source": [
    "image_arr = images.numpy()\n",
    "image_arr.shape"
   ]
  },
  {
   "cell_type": "code",
   "execution_count": 19,
   "metadata": {
    "ExecuteTime": {
     "end_time": "2019-10-21T01:46:56.037868Z",
     "start_time": "2019-10-21T01:46:56.034556Z"
    },
    "colab": {
     "base_uri": "https://localhost:8080/",
     "height": 34
    },
    "colab_type": "code",
    "id": "2DufTnm2AvsZ",
    "outputId": "b3695c67-c940-47a3-f6d1-9504c5419371"
   },
   "outputs": [
    {
     "data": {
      "text/plain": [
       "(1, 20, 24, 24)"
      ]
     },
     "execution_count": 19,
     "metadata": {
      "tags": []
     },
     "output_type": "execute_result"
    }
   ],
   "source": [
    "conv_output_data = conv_output.data\n",
    "output = conv_output_data.cpu().numpy()  # ...\n",
    "output.shape"
   ]
  },
  {
   "cell_type": "code",
   "execution_count": 20,
   "metadata": {
    "ExecuteTime": {
     "end_time": "2019-10-21T01:46:57.287524Z",
     "start_time": "2019-10-21T01:46:56.930157Z"
    },
    "colab": {
     "base_uri": "https://localhost:8080/",
     "height": 310
    },
    "colab_type": "code",
    "id": "_rnHlwQ1Avsc",
    "outputId": "4208e20e-23ce-4c07-d720-a02c6695d62f"
   },
   "outputs": [
    {
     "data": {
      "image/png": "[encoded data removed]",
      "text/plain": [
       "<Figure size 1080x2160 with 3 Axes>"
      ]
     },
     "metadata": {
      "tags": []
     },
     "output_type": "display_data"
    }
   ],
   "source": [
    "plt.figure(figsize=(15, 30))\n",
    "plt.subplot(131)\n",
    "plt.title('Input')\n",
    "plt.imshow(np.squeeze(image_arr), 'gray')\n",
    "plt.subplot(132)\n",
    "plt.title('Weight')\n",
    "plt.imshow(weight[0, 0, :, :], 'jet')\n",
    "plt.subplot(133)\n",
    "plt.title('Output')\n",
    "plt.imshow(output[0, 0, :, :], 'gray')\n",
    "plt.show()"
   ]
  },
  {
   "cell_type": "markdown",
   "metadata": {
    "colab_type": "text",
    "id": "680FaKSa8jR0"
   },
   "source": [
    "### Pooling"
   ]
  },
  {
   "cell_type": "code",
   "execution_count": 21,
   "metadata": {
    "ExecuteTime": {
     "end_time": "2019-10-21T20:01:34.706045Z",
     "start_time": "2019-10-21T20:01:34.578774Z"
    },
    "colab": {
     "base_uri": "https://localhost:8080/",
     "height": 34
    },
    "colab_type": "code",
    "id": "h6GU39CpAvsh",
    "outputId": "3966fed5-a9ee-440f-98a1-48963c30d2d3"
   },
   "outputs": [
    {
     "data": {
      "text/plain": [
       "torch.Size([1, 20, 12, 12])"
      ]
     },
     "execution_count": 21,
     "metadata": {
      "tags": []
     },
     "output_type": "execute_result"
    }
   ],
   "source": [
    "pool_output = F.max_pool2d(conv_output, 2, 2)\n",
    "pool_output.shape"
   ]
  },
  {
   "cell_type": "code",
   "execution_count": 22,
   "metadata": {
    "colab": {
     "base_uri": "https://localhost:8080/",
     "height": 34
    },
    "colab_type": "code",
    "id": "_4xI1d9gBwoY",
    "outputId": "e7f92a89-cb1a-494d-e099-a459a8d372de"
   },
   "outputs": [
    {
     "data": {
      "text/plain": [
       "(1, 20, 24, 24)"
      ]
     },
     "execution_count": 22,
     "metadata": {
      "tags": []
     },
     "output_type": "execute_result"
    }
   ],
   "source": [
    "conv_output_data = conv_output.data\n",
    "output = conv_output_data.cpu().numpy()  # ...\n",
    "output.shape"
   ]
  },
  {
   "cell_type": "code",
   "execution_count": 23,
   "metadata": {
    "ExecuteTime": {
     "end_time": "2019-10-21T01:46:58.801480Z",
     "start_time": "2019-10-21T01:46:58.798343Z"
    },
    "colab": {
     "base_uri": "https://localhost:8080/",
     "height": 34
    },
    "colab_type": "code",
    "id": "m1fLazxAAvsk",
    "outputId": "21f758a1-abaf-46bd-d1d5-5c5d616fcc58"
   },
   "outputs": [
    {
     "data": {
      "text/plain": [
       "(1, 20, 12, 12)"
      ]
     },
     "execution_count": 23,
     "metadata": {
      "tags": []
     },
     "output_type": "execute_result"
    }
   ],
   "source": [
    "pool_arr = pool_output.detach().numpy() # detach...\n",
    "pool_arr.shape"
   ]
  },
  {
   "cell_type": "code",
   "execution_count": 24,
   "metadata": {
    "ExecuteTime": {
     "end_time": "2019-10-21T01:46:59.991094Z",
     "start_time": "2019-10-21T01:46:59.769735Z"
    },
    "colab": {
     "base_uri": "https://localhost:8080/",
     "height": 318
    },
    "colab_type": "code",
    "id": "NqhBPm_7Avso",
    "outputId": "4f394238-05f5-4a13-bd6a-e13020aa9410"
   },
   "outputs": [
    {
     "data": {
      "image/png": "[encoded data removed]",
      "text/plain": [
       "<Figure size 720x1080 with 2 Axes>"
      ]
     },
     "metadata": {
      "tags": []
     },
     "output_type": "display_data"
    }
   ],
   "source": [
    "plt.figure(figsize=(10, 15))\n",
    "plt.subplot(121)\n",
    "plt.title(\"Input\")\n",
    "plt.imshow(np.squeeze(output[0, 0, :, :]), 'gray')\n",
    "plt.subplot(122)\n",
    "plt.title('Output')\n",
    "plt.imshow(np.squeeze(pool_arr[0, 0, :, :]), 'gray')\n",
    "plt.show()"
   ]
  },
  {
   "cell_type": "markdown",
   "metadata": {
    "colab_type": "text",
    "id": "EE40yFGp8jR9"
   },
   "source": [
    "## Classification"
   ]
  },
  {
   "cell_type": "markdown",
   "metadata": {
    "colab_type": "text",
    "id": "KaRTEFlZ8jR9"
   },
   "source": [
    "### Flatten"
   ]
  },
  {
   "cell_type": "code",
   "execution_count": 25,
   "metadata": {
    "ExecuteTime": {
     "end_time": "2019-10-21T01:47:00.478914Z",
     "start_time": "2019-10-21T01:47:00.475917Z"
    },
    "colab": {
     "base_uri": "https://localhost:8080/",
     "height": 34
    },
    "colab_type": "code",
    "id": "Jiyq69K4Avsp",
    "outputId": "997bb8e4-034e-4958-932b-41d376904581"
   },
   "outputs": [
    {
     "data": {
      "text/plain": [
       "torch.Size([1, 144])"
      ]
     },
     "execution_count": 25,
     "metadata": {
      "tags": []
     },
     "output_type": "execute_result"
    }
   ],
   "source": [
    "flatten_output = pool_output[0, 0, :, :].view(1, 12 * 12)\n",
    "flatten_output.shape"
   ]
  },
  {
   "cell_type": "markdown",
   "metadata": {
    "colab_type": "text",
    "id": "jCSHaxJf8jSA"
   },
   "source": [
    "### Linear"
   ]
  },
  {
   "cell_type": "code",
   "execution_count": 26,
   "metadata": {
    "ExecuteTime": {
     "end_time": "2019-10-21T01:47:00.996362Z",
     "start_time": "2019-10-21T01:47:00.992262Z"
    },
    "colab": {
     "base_uri": "https://localhost:8080/",
     "height": 34
    },
    "colab_type": "code",
    "id": "y6dOynTLAvsr",
    "outputId": "aabd7d3d-fec4-4601-ec94-a729c99f95ca"
   },
   "outputs": [
    {
     "data": {
      "text/plain": [
       "torch.Size([1, 10])"
      ]
     },
     "execution_count": 26,
     "metadata": {
      "tags": []
     },
     "output_type": "execute_result"
    }
   ],
   "source": [
    "lin_output = nn.Linear(12*12, 10)(flatten_output)\n",
    "lin_output.shape"
   ]
  },
  {
   "cell_type": "code",
   "execution_count": 27,
   "metadata": {
    "ExecuteTime": {
     "end_time": "2019-10-21T01:47:01.647710Z",
     "start_time": "2019-10-21T01:47:01.548874Z"
    },
    "colab": {
     "base_uri": "https://localhost:8080/",
     "height": 85
    },
    "colab_type": "code",
    "id": "vslhTdyuAvss",
    "outputId": "0788da32-7bc7-467f-80fa-230eb04ab8da"
   },
   "outputs": [
    {
     "data": {
      "image/png": "[encoded data removed]",
      "text/plain": [
       "<Figure size 432x288 with 1 Axes>"
      ]
     },
     "metadata": {
      "tags": []
     },
     "output_type": "display_data"
    }
   ],
   "source": [
    "plt.imshow(lin_output.detach().numpy(), 'jet')\n",
    "plt.show()"
   ]
  },
  {
   "cell_type": "markdown",
   "metadata": {
    "colab_type": "text",
    "id": "kpWocopa8jSJ"
   },
   "source": [
    "### Softmax"
   ]
  },
  {
   "cell_type": "code",
   "execution_count": 0,
   "metadata": {
    "ExecuteTime": {
     "end_time": "2019-10-21T01:47:02.259144Z",
     "start_time": "2019-10-21T01:47:02.255469Z"
    },
    "colab": {},
    "colab_type": "code",
    "id": "ThqkjkNZAvsu"
   },
   "outputs": [],
   "source": [
    "with torch.no_grad():\n",
    "    flatten_output = pool_output[0, 0, :, :].view(1, 12*12)\n",
    "    lin_output = nn.Linear(12*12, 10)(flatten_output)\n",
    "    softmax_output = F.softmax(lin_output, dim=1)"
   ]
  },
  {
   "cell_type": "code",
   "execution_count": 29,
   "metadata": {
    "ExecuteTime": {
     "end_time": "2019-10-21T01:47:02.820313Z",
     "start_time": "2019-10-21T01:47:02.816425Z"
    },
    "colab": {
     "base_uri": "https://localhost:8080/",
     "height": 51
    },
    "colab_type": "code",
    "id": "5wXMrGD2Avsv",
    "outputId": "83dfa33f-b84b-41bc-ba21-b1edacab5be0"
   },
   "outputs": [
    {
     "data": {
      "text/plain": [
       "tensor([[0.0793, 0.0940, 0.1145, 0.0809, 0.0903, 0.0902, 0.1142, 0.1234, 0.1064,\n",
       "         0.1067]])"
      ]
     },
     "execution_count": 29,
     "metadata": {
      "tags": []
     },
     "output_type": "execute_result"
    }
   ],
   "source": [
    "softmax_output"
   ]
  },
  {
   "cell_type": "code",
   "execution_count": 30,
   "metadata": {
    "ExecuteTime": {
     "end_time": "2019-10-21T01:47:03.391400Z",
     "start_time": "2019-10-21T01:47:03.388167Z"
    },
    "colab": {
     "base_uri": "https://localhost:8080/",
     "height": 34
    },
    "colab_type": "code",
    "id": "m6g4WE_rAvsw",
    "outputId": "5d03022a-f2a9-4f3b-95d3-3a2db3dd918c"
   },
   "outputs": [
    {
     "data": {
      "text/plain": [
       "1.0"
      ]
     },
     "execution_count": 30,
     "metadata": {
      "tags": []
     },
     "output_type": "execute_result"
    }
   ],
   "source": [
    "np.sum(softmax_output.numpy())"
   ]
  },
  {
   "cell_type": "code",
   "execution_count": 31,
   "metadata": {
    "ExecuteTime": {
     "end_time": "2019-10-21T01:47:03.894333Z",
     "start_time": "2019-10-21T01:47:03.890439Z"
    },
    "colab": {
     "base_uri": "https://localhost:8080/",
     "height": 34
    },
    "colab_type": "code",
    "id": "8EH02g0OAvs1",
    "outputId": "dff1a3b2-07b3-4b6f-e892-0b87e5e6758d"
   },
   "outputs": [
    {
     "data": {
      "text/plain": [
       "tensor(7)"
      ]
     },
     "execution_count": 31,
     "metadata": {
      "tags": []
     },
     "output_type": "execute_result"
    }
   ],
   "source": [
    "np.argmax(softmax_output)"
   ]
  },
  {
   "cell_type": "markdown",
   "metadata": {
    "colab_type": "text",
    "id": "3-AT-yNdwEO8"
   },
   "source": [
    "---"
   ]
  },
  {
   "cell_type": "markdown",
   "metadata": {
    "colab_type": "text",
    "id": "xBjsHonU8jSS"
   },
   "source": [
    "# Prepare dataset"
   ]
  },
  {
   "cell_type": "code",
   "execution_count": 0,
   "metadata": {
    "ExecuteTime": {
     "end_time": "2019-10-21T01:47:04.437757Z",
     "start_time": "2019-10-21T01:47:04.435184Z"
    },
    "colab": {},
    "colab_type": "code",
    "id": "M47sd7AJAvs5"
   },
   "outputs": [],
   "source": [
    "seed = 1\n",
    "\n",
    "batch_size = 64\n",
    "test_batch_size = 64\n",
    "\n",
    "no_cuda = False"
   ]
  },
  {
   "cell_type": "code",
   "execution_count": 0,
   "metadata": {
    "ExecuteTime": {
     "end_time": "2019-10-21T01:47:04.980242Z",
     "start_time": "2019-10-21T01:47:04.977739Z"
    },
    "colab": {},
    "colab_type": "code",
    "id": "gJXH8ELFAvs6"
   },
   "outputs": [],
   "source": [
    "use_cuda = not no_cuda and torch.cuda.is_available()\n",
    "device = torch.device(\"cuda\" if use_cuda else \"cpu\")"
   ]
  },
  {
   "cell_type": "code",
   "execution_count": 0,
   "metadata": {
    "ExecuteTime": {
     "end_time": "2019-10-21T01:47:05.571275Z",
     "start_time": "2019-10-21T01:47:05.545830Z"
    },
    "colab": {},
    "colab_type": "code",
    "id": "1yzCwiGOAvs8"
   },
   "outputs": [],
   "source": [
    "torch.manual_seed(seed)\n",
    "\n",
    "# load train dataset\n",
    "train_loader = torch.utils.data.DataLoader(\n",
    "    datasets.MNIST('dataset', train=True, download=True,\n",
    "                   transform=transforms.Compose([\n",
    "                       transforms.ToTensor(),\n",
    "                       transforms.Normalize((0.1307,), (0.3081,))\n",
    "                   ])),\n",
    "    batch_size=batch_size, shuffle=True)\n",
    "\n",
    "# load test dataset\n",
    "test_loader = torch.utils.data.DataLoader(\n",
    "    datasets.MNIST('dataset', train=False, transform=transforms.Compose([\n",
    "                       transforms.ToTensor(),\n",
    "                       transforms.Normalize((0.1307,), (0.3081,))\n",
    "                   ])),\n",
    "    batch_size=test_batch_size, shuffle=True)"
   ]
  },
  {
   "cell_type": "code",
   "execution_count": 0,
   "metadata": {
    "colab": {},
    "colab_type": "code",
    "id": "cxKBO-LPAvs4"
   },
   "outputs": [],
   "source": [
    "# Build model"
   ]
  },
  {
   "cell_type": "code",
   "execution_count": 0,
   "metadata": {
    "ExecuteTime": {
     "end_time": "2019-10-21T01:47:06.146763Z",
     "start_time": "2019-10-21T01:47:06.137463Z"
    },
    "colab": {},
    "colab_type": "code",
    "id": "4yfa6EotAvs9"
   },
   "outputs": [],
   "source": [
    "class Net(nn.Module):\n",
    "    def __init__(self):\n",
    "        super(Net, self).__init__()\n",
    "        self.conv1 = nn.Conv2d(1, 20, 5, 1)\n",
    "        self.conv2 = nn.Conv2d(20, 50, 5, 1)\n",
    "        self.fc1 = nn.Linear(4*4*50, 500)\n",
    "        self.fc2 = nn.Linear(500, 10)\n",
    "        \n",
    "    def forward(self, x):\n",
    "        # Feature Extraction\n",
    "        x = F.relu(self.conv1(x))\n",
    "        x = F.max_pool2d(x, 2, 2)\n",
    "        x = F.relu(self.conv2(x))\n",
    "        x = F.max_pool2d(x, 2, 2)\n",
    "        \n",
    "        # Fully Connected (Classficiation)\n",
    "        x = x.view(-1, 4*4*50)\n",
    "        x = F.relu(self.fc1(x))\n",
    "        x = self.fc2(x)\n",
    "        return F.log_softmax(x, dim=1)\n",
    "    \n",
    "model = Net().to(device)"
   ]
  },
  {
   "cell_type": "markdown",
   "metadata": {
    "colab_type": "text",
    "id": "zKYPMqQm8jSb"
   },
   "source": [
    "## Optimizer"
   ]
  },
  {
   "cell_type": "code",
   "execution_count": 0,
   "metadata": {
    "ExecuteTime": {
     "end_time": "2019-10-21T01:47:06.698652Z",
     "start_time": "2019-10-21T01:47:06.696251Z"
    },
    "colab": {},
    "colab_type": "code",
    "id": "fQvXdpuUAvs-"
   },
   "outputs": [],
   "source": [
    "optimizer = optim.SGD(model.parameters(), lr=0.001, momentum=0.5)"
   ]
  },
  {
   "cell_type": "code",
   "execution_count": 39,
   "metadata": {
    "ExecuteTime": {
     "end_time": "2019-10-21T01:47:18.579739Z",
     "start_time": "2019-10-21T01:47:18.576018Z"
    },
    "colab": {
     "base_uri": "https://localhost:8080/",
     "height": 119
    },
    "colab_type": "code",
    "id": "0lMVgrlDAvs_",
    "outputId": "7d72f4b1-03e8-49be-dfa5-6ea64c89505a"
   },
   "outputs": [
    {
     "data": {
      "text/plain": [
       "Net(\n",
       "  (conv1): Conv2d(1, 20, kernel_size=(5, 5), stride=(1, 1))\n",
       "  (conv2): Conv2d(20, 50, kernel_size=(5, 5), stride=(1, 1))\n",
       "  (fc1): Linear(in_features=800, out_features=500, bias=True)\n",
       "  (fc2): Linear(in_features=500, out_features=10, bias=True)\n",
       ")"
      ]
     },
     "execution_count": 39,
     "metadata": {
      "tags": []
     },
     "output_type": "execute_result"
    }
   ],
   "source": [
    "model.train()  # train mode"
   ]
  },
  {
   "cell_type": "code",
   "execution_count": 40,
   "metadata": {
    "ExecuteTime": {
     "end_time": "2019-10-21T01:47:50.458880Z",
     "start_time": "2019-10-21T01:47:50.442511Z"
    },
    "colab": {
     "base_uri": "https://localhost:8080/",
     "height": 34
    },
    "colab_type": "code",
    "id": "ffpfCrseAvtB",
    "outputId": "a6e1a4f0-bd3e-4fb8-9971-eb3aff98118d"
   },
   "outputs": [
    {
     "data": {
      "text/plain": [
       "(torch.Size([64, 1, 28, 28]), torch.Size([64]))"
      ]
     },
     "execution_count": 40,
     "metadata": {
      "tags": []
     },
     "output_type": "execute_result"
    }
   ],
   "source": [
    "data, target = next(iter(train_loader))\n",
    "data.shape, target.shape"
   ]
  },
  {
   "cell_type": "code",
   "execution_count": 0,
   "metadata": {
    "ExecuteTime": {
     "end_time": "2019-10-21T01:47:35.040877Z",
     "start_time": "2019-10-21T01:47:35.037309Z"
    },
    "colab": {},
    "colab_type": "code",
    "id": "Yn87kxxnAvtC"
   },
   "outputs": [],
   "source": []
  },
  {
   "cell_type": "code",
   "execution_count": 41,
   "metadata": {
    "ExecuteTime": {
     "end_time": "2019-10-21T01:47:51.563648Z",
     "start_time": "2019-10-21T01:47:51.559825Z"
    },
    "colab": {
     "base_uri": "https://localhost:8080/",
     "height": 34
    },
    "colab_type": "code",
    "id": "Yp93M1m3AvtE",
    "outputId": "c8046165-7097-47d9-e0e9-7e8f40f45584"
   },
   "outputs": [
    {
     "data": {
      "text/plain": [
       "(torch.Size([64, 1, 28, 28]), torch.Size([64]))"
      ]
     },
     "execution_count": 41,
     "metadata": {
      "tags": []
     },
     "output_type": "execute_result"
    }
   ],
   "source": [
    "data, target = data.to(device), target.to(device)\n",
    "data.shape, target.shape"
   ]
  },
  {
   "cell_type": "code",
   "execution_count": 0,
   "metadata": {
    "ExecuteTime": {
     "end_time": "2019-10-21T01:47:57.505975Z",
     "start_time": "2019-10-21T01:47:57.503599Z"
    },
    "colab": {},
    "colab_type": "code",
    "id": "qqi90AxqAvtF"
   },
   "outputs": [],
   "source": [
    "optimizer.zero_grad()"
   ]
  },
  {
   "cell_type": "code",
   "execution_count": 0,
   "metadata": {
    "ExecuteTime": {
     "start_time": "2019-10-21T01:48:02.374Z"
    },
    "colab": {},
    "colab_type": "code",
    "id": "B_hFw-PaAvtG"
   },
   "outputs": [],
   "source": [
    "output = model(data)"
   ]
  },
  {
   "cell_type": "markdown",
   "metadata": {
    "colab_type": "text",
    "id": "R_Lmsv4n8jSu"
   },
   "source": [
    "## Loss object"
   ]
  },
  {
   "cell_type": "code",
   "execution_count": 0,
   "metadata": {
    "ExecuteTime": {
     "end_time": "2019-10-21T01:48:11.950991Z",
     "start_time": "2019-10-21T01:48:11.928966Z"
    },
    "colab": {},
    "colab_type": "code",
    "id": "srqVjyXcAvtH"
   },
   "outputs": [],
   "source": [
    "loss = F.nll_loss(output, target)"
   ]
  },
  {
   "cell_type": "code",
   "execution_count": 0,
   "metadata": {
    "ExecuteTime": {
     "end_time": "2019-10-21T01:48:17.713008Z",
     "start_time": "2019-10-21T01:48:17.706791Z"
    },
    "colab": {},
    "colab_type": "code",
    "id": "9FfxR-nPAvtK"
   },
   "outputs": [],
   "source": [
    "loss.backward()"
   ]
  },
  {
   "cell_type": "code",
   "execution_count": 0,
   "metadata": {
    "ExecuteTime": {
     "end_time": "2019-10-21T01:48:22.420961Z",
     "start_time": "2019-10-21T01:48:22.414680Z"
    },
    "colab": {},
    "colab_type": "code",
    "id": "P0nO7RwYAvtM"
   },
   "outputs": [],
   "source": [
    "optimizer.step()"
   ]
  },
  {
   "cell_type": "markdown",
   "metadata": {
    "colab_type": "text",
    "id": "Blot404B8jSy"
   },
   "source": []
  },
  {
   "cell_type": "code",
   "execution_count": 0,
   "metadata": {
    "ExecuteTime": {
     "end_time": "2019-10-21T01:48:28.828119Z",
     "start_time": "2019-10-21T01:48:28.826176Z"
    },
    "colab": {},
    "colab_type": "code",
    "id": "gF_rZY70AvtN"
   },
   "outputs": [],
   "source": [
    "epochs = 3\n",
    "log_interval = 100"
   ]
  },
  {
   "cell_type": "code",
   "execution_count": 48,
   "metadata": {
    "ExecuteTime": {
     "end_time": "2019-10-21T01:48:34.065904Z",
     "start_time": "2019-10-21T01:48:34.052494Z"
    },
    "colab": {
     "base_uri": "https://localhost:8080/",
     "height": 680
    },
    "colab_type": "code",
    "id": "F8wDk7kFAvtP",
    "outputId": "e83c0899-71fa-43de-9c9e-7424617286bf"
   },
   "outputs": [
    {
     "name": "stdout",
     "output_type": "stream",
     "text": [
      "Train Epoch: 1 [0/60000 (0%)]\tLoss: 2.290735\n",
      "Train Epoch: 1 [6400/60000 (11%)]\tLoss: 2.228957\n",
      "Train Epoch: 1 [12800/60000 (21%)]\tLoss: 2.121072\n",
      "Train Epoch: 1 [19200/60000 (32%)]\tLoss: 1.893560\n",
      "Train Epoch: 1 [25600/60000 (43%)]\tLoss: 1.570058\n",
      "Train Epoch: 1 [32000/60000 (53%)]\tLoss: 1.213091\n",
      "Train Epoch: 1 [38400/60000 (64%)]\tLoss: 0.993894\n",
      "Train Epoch: 1 [44800/60000 (75%)]\tLoss: 0.778652\n",
      "Train Epoch: 1 [51200/60000 (85%)]\tLoss: 0.733029\n",
      "Train Epoch: 1 [57600/60000 (96%)]\tLoss: 0.624467\n",
      "\n",
      "Test set: Average Loss: 0.4798, Accuracy: 8662/10000 (87%)\n",
      "\n",
      "Train Epoch: 2 [0/60000 (0%)]\tLoss: 0.396035\n",
      "Train Epoch: 2 [6400/60000 (11%)]\tLoss: 0.490088\n",
      "Train Epoch: 2 [12800/60000 (21%)]\tLoss: 0.479047\n",
      "Train Epoch: 2 [19200/60000 (32%)]\tLoss: 0.301175\n",
      "Train Epoch: 2 [25600/60000 (43%)]\tLoss: 0.288177\n",
      "Train Epoch: 2 [32000/60000 (53%)]\tLoss: 0.553159\n",
      "Train Epoch: 2 [38400/60000 (64%)]\tLoss: 0.429490\n",
      "Train Epoch: 2 [44800/60000 (75%)]\tLoss: 0.406935\n",
      "Train Epoch: 2 [51200/60000 (85%)]\tLoss: 0.242401\n",
      "Train Epoch: 2 [57600/60000 (96%)]\tLoss: 0.422447\n",
      "\n",
      "Test set: Average Loss: 0.2955, Accuracy: 9126/10000 (91%)\n",
      "\n",
      "Train Epoch: 3 [0/60000 (0%)]\tLoss: 0.489514\n",
      "Train Epoch: 3 [6400/60000 (11%)]\tLoss: 0.417233\n",
      "Train Epoch: 3 [12800/60000 (21%)]\tLoss: 0.308860\n",
      "Train Epoch: 3 [19200/60000 (32%)]\tLoss: 0.277646\n",
      "Train Epoch: 3 [25600/60000 (43%)]\tLoss: 0.222950\n",
      "Train Epoch: 3 [32000/60000 (53%)]\tLoss: 0.171291\n",
      "Train Epoch: 3 [38400/60000 (64%)]\tLoss: 0.331302\n",
      "Train Epoch: 3 [44800/60000 (75%)]\tLoss: 0.409162\n",
      "Train Epoch: 3 [51200/60000 (85%)]\tLoss: 0.163855\n",
      "Train Epoch: 3 [57600/60000 (96%)]\tLoss: 0.342148\n",
      "\n",
      "Test set: Average Loss: 0.2269, Accuracy: 9322/10000 (93%)\n",
      "\n"
     ]
    }
   ],
   "source": [
    "for epoch in range(1, epochs+1):\n",
    "    # train mode\n",
    "    model.train()\n",
    "    for batch_idx, (data, target) in enumerate(train_loader):\n",
    "        data, target = data.to(device), target.to(device)\n",
    "        # 1. init grad\n",
    "        optimizer.zero_grad()\n",
    "        # 2. forward\n",
    "        output = model(data)\n",
    "        # 3. calc loss\n",
    "        loss = F.nll_loss(output, target)\n",
    "        # 4. backprop\n",
    "        loss.backward()\n",
    "        # 5. update weights\n",
    "        optimizer.step()\n",
    "        \n",
    "        if batch_idx % log_interval == 0:\n",
    "            print('Train Epoch: {} [{}/{} ({:.0f}%)]\\tLoss: {:.6f}'.format(\n",
    "                epoch, batch_idx * len(data), len(train_loader.dataset),\n",
    "                100 * batch_idx / len(train_loader), loss.item()\n",
    "            ))\n",
    "\n",
    "    # eval        \n",
    "    model.eval()\n",
    "\n",
    "    test_loss = 0\n",
    "    correct = 0\n",
    "    with torch.no_grad(): # no_grad on eval mode\n",
    "        for data, target in test_loader:\n",
    "            data, target = data.to(device), target.to(device)\n",
    "            output = model(data)\n",
    "            test_loss += F.nll_loss(output, target, reduction='sum').item()\n",
    "            pred = output.argmax(dim=1, keepdim=True)\n",
    "            correct += pred.eq(target.view_as(pred)).sum().item()\n",
    "\n",
    "    test_loss /= len(test_loader.dataset)\n",
    "\n",
    "    print('\\nTest set: Average Loss: {:.4f}, Accuracy: {}/{} ({:.0f}%)\\n'.format(\n",
    "        test_loss, correct, len(test_loader.dataset), 100. * correct / len(test_loader.dataset)))"
   ]
  },
  {
   "cell_type": "code",
   "execution_count": 0,
   "metadata": {
    "colab": {},
    "colab_type": "code",
    "id": "ZxWmzEuJAvtS"
   },
   "outputs": [],
   "source": []
  },
  {
   "cell_type": "code",
   "execution_count": 49,
   "metadata": {
    "colab": {
     "base_uri": "https://localhost:8080/",
     "height": 68
    },
    "colab_type": "code",
    "id": "rxPnl0lGAvtT",
    "outputId": "fa58ddc9-4fc4-4b3a-ce4c-b5369653ef22"
   },
   "outputs": [
    {
     "name": "stdout",
     "output_type": "stream",
     "text": [
      "\n",
      "Test set: Average Loss: 0.2269, Accuracy: 9322/10000 (93%)\n",
      "\n"
     ]
    }
   ],
   "source": [
    "model.eval() # eval mode\n",
    "\n",
    "test_loss = 0\n",
    "correct = 0\n",
    "\n",
    "with torch.no_grad():\n",
    "    for data, target in test_loader:\n",
    "        data, target = data.to(device), target.to(device)\n",
    "        output = model(data)\n",
    "        test_loss += F.nll_loss(output, target, reduction='sum').item()\n",
    "        pred = output.argmax(dim=1, keepdim=True)\n",
    "        correct += pred.eq(target.view_as(pred)).sum().item()\n",
    "\n",
    "test_loss /= len(test_loader.dataset)\n",
    "\n",
    "print('\\nTest set: Average Loss: {:.4f}, Accuracy: {}/{} ({:.0f}%)\\n'.format(\n",
    "    test_loss, correct, len(test_loader.dataset), 100. * correct / len(test_loader.dataset)))"
   ]
  },
  {
   "cell_type": "code",
   "execution_count": 0,
   "metadata": {
    "colab": {},
    "colab_type": "code",
    "id": "j4rbiq5Oxl8A"
   },
   "outputs": [],
   "source": []
  }
 ],
 "metadata": {
  "accelerator": "GPU",
  "colab": {
   "collapsed_sections": [],
   "name": "pytorch_mnist_explained.ipynb",
   "provenance": []
  },
  "kernelspec": {
   "display_name": "Python 3",
   "language": "python",
   "name": "python3"
  },
  "language_info": {
   "codemirror_mode": {
    "name": "ipython",
    "version": 3
   },
   "file_extension": ".py",
   "mimetype": "text/x-python",
   "name": "python",
   "nbconvert_exporter": "python",
   "pygments_lexer": "ipython3",
   "version": "3.7.4"
  },
  "toc": {
   "base_numbering": 1,
   "nav_menu": {},
   "number_sections": true,
   "sideBar": true,
   "skip_h1_title": false,
   "title_cell": "Table of Contents",
   "title_sidebar": "Contents",
   "toc_cell": false,
   "toc_position": {},
   "toc_section_display": true,
   "toc_window_display": false
  },
  "varInspector": {
   "cols": {
    "lenName": 16,
    "lenType": 16,
    "lenVar": 40
   },
   "kernels_config": {
    "python": {
     "delete_cmd_postfix": "",
     "delete_cmd_prefix": "del ",
     "library": "var_list.py",
     "varRefreshCmd": "print(var_dic_list())"
    },
    "r": {
     "delete_cmd_postfix": ") ",
     "delete_cmd_prefix": "rm(",
     "library": "var_list.r",
     "varRefreshCmd": "cat(var_dic_list()) "
    }
   },
   "types_to_exclude": [
    "module",
    "function",
    "builtin_function_or_method",
    "instance",
    "_Feature"
   ],
   "window_display": false
  }
 },
 "nbformat": 4,
 "nbformat_minor": 1
}
